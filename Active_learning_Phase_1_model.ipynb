{
 "cells": [
  {
   "cell_type": "code",
   "execution_count": 1,
   "id": "eb37c81d",
   "metadata": {},
   "outputs": [],
   "source": [
    "### Template for Gaussian process using the binary data sets of Co, Cu, Fe @ Zr and reaction conditions ###"
   ]
  },
  {
   "cell_type": "code",
   "execution_count": 14,
   "id": "2b20c4f4",
   "metadata": {},
   "outputs": [
    {
     "data": {
      "text/plain": [
       "'2.12.1'"
      ]
     },
     "execution_count": 14,
     "metadata": {},
     "output_type": "execute_result"
    }
   ],
   "source": [
    "# Import Libraries\n",
    "import numpy as np\n",
    "import pandas as pd\n",
    "import matplotlib.pyplot as plt\n",
    "import seaborn as sns\n",
    "import tensorflow as tf\n",
    "tf.__version__"
   ]
  },
  {
   "cell_type": "code",
   "execution_count": 15,
   "id": "e53072f1",
   "metadata": {},
   "outputs": [],
   "source": [
    "#np.random.seed(404)\n",
    "np.set_printoptions(precision=2, suppress=True)"
   ]
  },
  {
   "cell_type": "code",
   "execution_count": 16,
   "id": "9f08e2ee",
   "metadata": {},
   "outputs": [
    {
     "data": {
      "text/html": [
       "<div>\n",
       "<style scoped>\n",
       "    .dataframe tbody tr th:only-of-type {\n",
       "        vertical-align: middle;\n",
       "    }\n",
       "\n",
       "    .dataframe tbody tr th {\n",
       "        vertical-align: top;\n",
       "    }\n",
       "\n",
       "    .dataframe thead th {\n",
       "        text-align: right;\n",
       "    }\n",
       "</style>\n",
       "<table border=\"1\" class=\"dataframe\">\n",
       "  <thead>\n",
       "    <tr style=\"text-align: right;\">\n",
       "      <th></th>\n",
       "      <th>Zr</th>\n",
       "      <th>Cu</th>\n",
       "      <th>Co</th>\n",
       "      <th>Fe</th>\n",
       "      <th>STY</th>\n",
       "    </tr>\n",
       "  </thead>\n",
       "  <tbody>\n",
       "    <tr>\n",
       "      <th>0</th>\n",
       "      <td>0.129</td>\n",
       "      <td>0.0</td>\n",
       "      <td>0.000</td>\n",
       "      <td>0.871</td>\n",
       "      <td>236.682003</td>\n",
       "    </tr>\n",
       "    <tr>\n",
       "      <th>1</th>\n",
       "      <td>0.135</td>\n",
       "      <td>0.0</td>\n",
       "      <td>0.185</td>\n",
       "      <td>0.680</td>\n",
       "      <td>294.040805</td>\n",
       "    </tr>\n",
       "    <tr>\n",
       "      <th>2</th>\n",
       "      <td>0.115</td>\n",
       "      <td>0.0</td>\n",
       "      <td>0.315</td>\n",
       "      <td>0.570</td>\n",
       "      <td>281.273559</td>\n",
       "    </tr>\n",
       "    <tr>\n",
       "      <th>3</th>\n",
       "      <td>0.117</td>\n",
       "      <td>0.0</td>\n",
       "      <td>0.460</td>\n",
       "      <td>0.423</td>\n",
       "      <td>243.321402</td>\n",
       "    </tr>\n",
       "    <tr>\n",
       "      <th>4</th>\n",
       "      <td>0.125</td>\n",
       "      <td>0.0</td>\n",
       "      <td>0.607</td>\n",
       "      <td>0.268</td>\n",
       "      <td>161.815333</td>\n",
       "    </tr>\n",
       "  </tbody>\n",
       "</table>\n",
       "</div>"
      ],
      "text/plain": [
       "     Zr   Cu     Co      Fe         STY\n",
       "0  0.129  0.0  0.000  0.871  236.682003\n",
       "1  0.135  0.0  0.185  0.680  294.040805\n",
       "2  0.115  0.0  0.315  0.570  281.273559\n",
       "3  0.117  0.0  0.460  0.423  243.321402\n",
       "4  0.125  0.0  0.607  0.268  161.815333"
      ]
     },
     "execution_count": 16,
     "metadata": {},
     "output_type": "execute_result"
    }
   ],
   "source": [
    "# Read data\n",
    "data = pd.read_excel('Modelling_Data_Phase_1.xlsx', sheet_name ='Seed', index_col=False)\n",
    "data.head()"
   ]
  },
  {
   "cell_type": "code",
   "execution_count": 100,
   "id": "ee719dc5",
   "metadata": {},
   "outputs": [
    {
     "name": "stdout",
     "output_type": "stream",
     "text": [
      "<class 'pandas.core.frame.DataFrame'>\n",
      "RangeIndex: 31 entries, 0 to 30\n",
      "Data columns (total 5 columns):\n",
      " #   Column  Non-Null Count  Dtype  \n",
      "---  ------  --------------  -----  \n",
      " 0   Zr      31 non-null     float64\n",
      " 1   Cu      31 non-null     float64\n",
      " 2   Co      31 non-null     float64\n",
      " 3   Fe      31 non-null     float64\n",
      " 4   STY     31 non-null     float64\n",
      "dtypes: float64(5)\n",
      "memory usage: 1.3 KB\n"
     ]
    }
   ],
   "source": [
    "data.info()"
   ]
  },
  {
   "cell_type": "code",
   "execution_count": 101,
   "id": "67d14ec2",
   "metadata": {
    "scrolled": true
   },
   "outputs": [
    {
     "data": {
      "text/html": [
       "<div>\n",
       "<style scoped>\n",
       "    .dataframe tbody tr th:only-of-type {\n",
       "        vertical-align: middle;\n",
       "    }\n",
       "\n",
       "    .dataframe tbody tr th {\n",
       "        vertical-align: top;\n",
       "    }\n",
       "\n",
       "    .dataframe thead th {\n",
       "        text-align: right;\n",
       "    }\n",
       "</style>\n",
       "<table border=\"1\" class=\"dataframe\">\n",
       "  <thead>\n",
       "    <tr style=\"text-align: right;\">\n",
       "      <th></th>\n",
       "      <th>Zr</th>\n",
       "      <th>Cu</th>\n",
       "      <th>Co</th>\n",
       "      <th>Fe</th>\n",
       "      <th>STY</th>\n",
       "    </tr>\n",
       "  </thead>\n",
       "  <tbody>\n",
       "    <tr>\n",
       "      <th>count</th>\n",
       "      <td>31.000000</td>\n",
       "      <td>31.00000</td>\n",
       "      <td>31.000000</td>\n",
       "      <td>31.000000</td>\n",
       "      <td>31.000000</td>\n",
       "    </tr>\n",
       "    <tr>\n",
       "      <th>mean</th>\n",
       "      <td>0.143742</td>\n",
       "      <td>0.24529</td>\n",
       "      <td>0.236065</td>\n",
       "      <td>0.374903</td>\n",
       "      <td>171.513337</td>\n",
       "    </tr>\n",
       "    <tr>\n",
       "      <th>std</th>\n",
       "      <td>0.097154</td>\n",
       "      <td>0.26235</td>\n",
       "      <td>0.257175</td>\n",
       "      <td>0.314445</td>\n",
       "      <td>100.103920</td>\n",
       "    </tr>\n",
       "    <tr>\n",
       "      <th>min</th>\n",
       "      <td>0.000000</td>\n",
       "      <td>0.00000</td>\n",
       "      <td>0.000000</td>\n",
       "      <td>0.000000</td>\n",
       "      <td>0.000000</td>\n",
       "    </tr>\n",
       "    <tr>\n",
       "      <th>25%</th>\n",
       "      <td>0.113500</td>\n",
       "      <td>0.00000</td>\n",
       "      <td>0.000000</td>\n",
       "      <td>0.000000</td>\n",
       "      <td>86.619788</td>\n",
       "    </tr>\n",
       "    <tr>\n",
       "      <th>50%</th>\n",
       "      <td>0.122000</td>\n",
       "      <td>0.20200</td>\n",
       "      <td>0.177000</td>\n",
       "      <td>0.423000</td>\n",
       "      <td>161.547789</td>\n",
       "    </tr>\n",
       "    <tr>\n",
       "      <th>75%</th>\n",
       "      <td>0.142000</td>\n",
       "      <td>0.41300</td>\n",
       "      <td>0.432000</td>\n",
       "      <td>0.658000</td>\n",
       "      <td>249.106089</td>\n",
       "    </tr>\n",
       "    <tr>\n",
       "      <th>max</th>\n",
       "      <td>0.438000</td>\n",
       "      <td>0.89100</td>\n",
       "      <td>0.851000</td>\n",
       "      <td>0.871000</td>\n",
       "      <td>324.248728</td>\n",
       "    </tr>\n",
       "  </tbody>\n",
       "</table>\n",
       "</div>"
      ],
      "text/plain": [
       "             Zr        Cu         Co          Fe         STY\n",
       "count  31.000000  31.00000  31.000000  31.000000   31.000000\n",
       "mean    0.143742   0.24529   0.236065   0.374903  171.513337\n",
       "std     0.097154   0.26235   0.257175   0.314445  100.103920\n",
       "min     0.000000   0.00000   0.000000   0.000000    0.000000\n",
       "25%     0.113500   0.00000   0.000000   0.000000   86.619788\n",
       "50%     0.122000   0.20200   0.177000   0.423000  161.547789\n",
       "75%     0.142000   0.41300   0.432000   0.658000  249.106089\n",
       "max     0.438000   0.89100   0.851000   0.871000  324.248728"
      ]
     },
     "execution_count": 101,
     "metadata": {},
     "output_type": "execute_result"
    }
   ],
   "source": [
    "# General stastistical data\n",
    "data.describe()"
   ]
  },
  {
   "cell_type": "code",
   "execution_count": 102,
   "id": "38a03952",
   "metadata": {},
   "outputs": [],
   "source": [
    "# Define X and y from the data\n",
    "\n",
    "X = data[['Zr ', 'Cu ', 'Co ', 'Fe']].values\n",
    "Y = -1*data['STY'].values.reshape(-1, 1) "
   ]
  },
  {
   "cell_type": "code",
   "execution_count": 103,
   "id": "73387ec8",
   "metadata": {},
   "outputs": [
    {
     "data": {
      "text/plain": [
       "array([[-236.682],\n",
       "       [-294.041],\n",
       "       [-281.274],\n",
       "       [-243.321],\n",
       "       [-161.815],\n",
       "       [ -99.863],\n",
       "       [  -0.   ],\n",
       "       [ -86.442],\n",
       "       [-134.092],\n",
       "       [-210.049],\n",
       "       [-299.991],\n",
       "       [-309.924],\n",
       "       [  -0.   ],\n",
       "       [ -90.257],\n",
       "       [ -86.798],\n",
       "       [ -91.53 ],\n",
       "       [ -82.638],\n",
       "       [ -83.368],\n",
       "       [-324.249],\n",
       "       [-218.904],\n",
       "       [ -63.576],\n",
       "       [-140.567],\n",
       "       [ -71.581],\n",
       "       [-161.548],\n",
       "       [-239.702],\n",
       "       [-238.423],\n",
       "       [-254.891],\n",
       "       [-304.157],\n",
       "       [-321.494],\n",
       "       [-121.7  ],\n",
       "       [ -64.038]])"
      ]
     },
     "execution_count": 103,
     "metadata": {},
     "output_type": "execute_result"
    }
   ],
   "source": [
    "Y"
   ]
  },
  {
   "cell_type": "code",
   "execution_count": 104,
   "id": "9b0fdfee",
   "metadata": {
    "scrolled": false
   },
   "outputs": [],
   "source": [
    "## Gaussian process regression \n",
    "\n",
    "from gpflow.models import GPR\n",
    "from gpflow.models import SVGP\n",
    "from gpflow.likelihoods import Gaussian\n",
    "from gpflow.optimizers import Scipy\n",
    "from gpflow.kernels import SquaredExponential as SE, Constant as C, White as W, SharedIndependent as SI\n",
    "from gpflow.inducing_variables import SharedIndependentInducingVariables as SIIV, InducingPoints as IP\n",
    "from sklearn.metrics import r2_score, mean_squared_error"
   ]
  },
  {
   "cell_type": "code",
   "execution_count": 105,
   "id": "c4d58877",
   "metadata": {},
   "outputs": [
    {
     "data": {
      "text/plain": [
       "  message: CONVERGENCE: REL_REDUCTION_OF_F_<=_FACTR*EPSMCH\n",
       "  success: True\n",
       "   status: 0\n",
       "      fun: 164.3267665107328\n",
       "        x: [-1.771e+00 -2.899e-01  7.751e+00 -5.158e-01  1.184e+04\n",
       "             5.951e+02]\n",
       "      nit: 68\n",
       "      jac: [-1.765e+00  2.724e+00  9.629e-03  2.894e+00 -1.889e-04\n",
       "            -5.023e-04]\n",
       "     nfev: 83\n",
       "     njev: 83\n",
       " hess_inv: <6x6 LbfgsInvHessProduct with dtype=float64>"
      ]
     },
     "execution_count": 105,
     "metadata": {},
     "output_type": "execute_result"
    }
   ],
   "source": [
    "# Kernel (signal noise * SE + data noise)\n",
    "\n",
    "#single objective with 4 metals\n",
    "kernel = SE(lengthscales=[0.1,1.3,0.1,0.3])\n",
    "\n",
    "# Gaussian process regression\n",
    "gp_model = GPR((X, Y), kernel=kernel)\n",
    "\n",
    "# Optimization\n",
    "opt = Scipy()\n",
    "opt.minimize(gp_model.training_loss, gp_model.trainable_variables)\n"
   ]
  },
  {
   "cell_type": "code",
   "execution_count": 106,
   "id": "85e4b2e5",
   "metadata": {},
   "outputs": [
    {
     "name": "stdout",
     "output_type": "stream",
     "text": [
      "R^2 score: 0.96\n",
      "Root Mean Squared Error: 18.96\n"
     ]
    }
   ],
   "source": [
    "from sklearn.metrics import r2_score, mean_squared_error\n",
    "\n",
    "# After optimization, you can make predictions with the trained model\n",
    "Y_pred_mean, _ = gp_model.predict_y(X)  # Predicted mean values\n",
    "\n",
    "# Evaluate R^2 score\n",
    "r2 = r2_score(Y, Y_pred_mean)\n",
    "\n",
    "# Evaluate mean squared error (RMSE)\n",
    "mse = mean_squared_error(Y, Y_pred_mean)\n",
    "rmse = np.sqrt(mse)\n",
    "\n",
    "# Print the evaluation metrics with limited decimal places\n",
    "print(\"R^2 score: {:.2f}\".format(r2))\n",
    "print(\"Root Mean Squared Error: {:.2f}\".format(rmse))"
   ]
  },
  {
   "cell_type": "code",
   "execution_count": 107,
   "id": "dadbc018",
   "metadata": {
    "scrolled": true
   },
   "outputs": [
    {
     "data": {
      "text/plain": [
       "(<Parameter: name=softplus, dtype=float64, shape=[4], fn=\"softplus\", numpy=array([0.157, 0.559, 7.752, 0.468])>,\n",
       " <Parameter: name=softplus, dtype=float64, shape=[], fn=\"softplus\", numpy=11836.348723965033>)"
      ]
     },
     "execution_count": 107,
     "metadata": {},
     "output_type": "execute_result"
    }
   ],
   "source": [
    "# Optimized kernel parameters\n",
    "\n",
    "from gpflow.utilities import print_summary\n",
    "gp_model.kernel.parameters\n"
   ]
  },
  {
   "cell_type": "code",
   "execution_count": 108,
   "id": "aac5a685",
   "metadata": {},
   "outputs": [
    {
     "name": "stdout",
     "output_type": "stream",
     "text": [
      "Optimized Lengthscales: [0.157 0.559 7.752 0.468]\n"
     ]
    }
   ],
   "source": [
    "# You can also access the optimized hyperparameters\n",
    "optimized_lengthscales = gp_model.kernel.lengthscales.numpy()\n",
    "print(\"Optimized Lengthscales:\", optimized_lengthscales)"
   ]
  },
  {
   "cell_type": "markdown",
   "id": "00e2b554",
   "metadata": {},
   "source": [
    "# Bayesian optimization"
   ]
  },
  {
   "cell_type": "code",
   "execution_count": 93,
   "id": "66ee4a6b",
   "metadata": {},
   "outputs": [],
   "source": [
    "# Defining the Constraints\n",
    "\n",
    "from trieste.space import LinearConstraint\n",
    "from trieste.space import Box\n",
    "\n",
    "# Define lower and upper bounds for metal fractions\n",
    "Zr_lb = 0.1\n",
    "Zr_ub = 0.1\n",
    "Cu_lb = 0.05\n",
    "Cu_ub = 0.2\n",
    "Co_lb = 0.05\n",
    "Co_ub = 0.5\n",
    "Fe_lb = 0.4\n",
    "Fe_ub = 0.8\n",
    "\n",
    "const_lb = -10\n",
    "const_ub = 10\n",
    "\n",
    "\n",
    "# Define linear constraints. Apply lb and ub to the scalar product of the number vector and the feature vector\n",
    "# Metal compositions \n",
    "\n",
    "constraints = [LinearConstraint(A=tf.constant\n",
    "        ([[1, 1, 1, 1], [1, 0, 0, 0], [0, 1, 0, 0], [0, 0, 1, 0], [0, 0, 0, 1]]), \n",
    "        lb=tf.constant([1, Zr_lb, Cu_lb, Co_lb, Fe_lb]), \n",
    "        ub=tf.constant([1, Zr_ub, Cu_ub, Co_ub, Fe_ub]))]\n",
    "constrained_search_space = Box([0, 0, 0, 0], [1, 1, 1, 1], constraints=constraints)\n"
   ]
  },
  {
   "cell_type": "code",
   "execution_count": 94,
   "id": "2a55c869",
   "metadata": {},
   "outputs": [],
   "source": [
    "# Functions for formatting data\n",
    "\n",
    "from trieste.data import Dataset\n",
    "\n",
    "def observer(in_):\n",
    "    in_ = tf.convert_to_tensor(in_)\n",
    "    out_, _ = gp_model.predict_y(in_)\n",
    "    out_ = tf.convert_to_tensor(out_)\n",
    "    return Dataset(in_, out_)\n",
    "\n",
    "def initial_data(in_, out_):\n",
    "    in_ = tf.convert_to_tensor(in_)\n",
    "    out_ = tf.convert_to_tensor(out_)\n",
    "    return Dataset(in_, out_)"
   ]
  },
  {
   "cell_type": "code",
   "execution_count": 95,
   "id": "d763768b",
   "metadata": {},
   "outputs": [],
   "source": [
    "# Build model\n",
    "\n",
    "from trieste.models.gpflow import GaussianProcessRegression\n",
    "from trieste.bayesian_optimizer import BayesianOptimizer\n",
    "from trieste.acquisition.rule import EfficientGlobalOptimization\n",
    "from trieste.acquisition.function import Fantasizer\n",
    "from trieste.acquisition import LocalPenalization\n",
    "from trieste.acquisition.function import ExpectedHypervolumeImprovement\n",
    "from trieste.acquisition.function import ExpectedImprovement\n",
    "from trieste.acquisition.function import PredictiveVariance\n",
    "\n",
    "model = GaussianProcessRegression(gp_model, num_kernel_samples=10)\n",
    "\n",
    "# Acquisition functions and rule\n",
    "\n",
    "ei = ExpectedImprovement(constrained_search_space)\n",
    "rule_ei = EfficientGlobalOptimization(builder=ei)\n",
    "\n",
    "pv = PredictiveVariance()\n",
    "rule_pv = EfficientGlobalOptimization(builder=pv)\n",
    "\n",
    "\n",
    "# Bayesian optimizer\n",
    "bo = BayesianOptimizer(observer, constrained_search_space)\n"
   ]
  },
  {
   "cell_type": "code",
   "execution_count": 96,
   "id": "38fd43bd",
   "metadata": {},
   "outputs": [
    {
     "name": "stdout",
     "output_type": "stream",
     "text": [
      "Optimization completed without errors\r\n"
     ]
    }
   ],
   "source": [
    "# Run the Bayesian optimizer for single objective\n",
    "\n",
    "batch_size = 6\n",
    "bo_result = bo.optimize(batch_size, initial_data(X, Y), model, rule_ei, track_state = False, fit_initial_model=False)"
   ]
  },
  {
   "cell_type": "code",
   "execution_count": 97,
   "id": "65f948b3",
   "metadata": {
    "scrolled": true
   },
   "outputs": [],
   "source": [
    "# Get results from the Bayesian optimizer\n",
    "bo_initial_data = bo_result.try_get_final_dataset()\n",
    "bo_X = bo_result.try_get_final_dataset().query_points.numpy()[-batch_size:,:]\n",
    "\n",
    "bo_Y = -1*bo_result.try_get_final_dataset().observations.numpy()[-batch_size:,:]\n",
    "np.set_printoptions(precision=3, suppress=True)\n",
    "\n",
    "result=(np.concatenate((bo_X, bo_Y), axis=1))\n"
   ]
  },
  {
   "cell_type": "code",
   "execution_count": 98,
   "id": "d3541a1a",
   "metadata": {},
   "outputs": [
    {
     "data": {
      "text/html": [
       "<div>\n",
       "<style scoped>\n",
       "    .dataframe tbody tr th:only-of-type {\n",
       "        vertical-align: middle;\n",
       "    }\n",
       "\n",
       "    .dataframe tbody tr th {\n",
       "        vertical-align: top;\n",
       "    }\n",
       "\n",
       "    .dataframe thead th {\n",
       "        text-align: right;\n",
       "    }\n",
       "</style>\n",
       "<table border=\"1\" class=\"dataframe\">\n",
       "  <thead>\n",
       "    <tr style=\"text-align: right;\">\n",
       "      <th></th>\n",
       "      <th>Zr</th>\n",
       "      <th>Cu</th>\n",
       "      <th>Co</th>\n",
       "      <th>Fe</th>\n",
       "      <th>STY</th>\n",
       "    </tr>\n",
       "  </thead>\n",
       "  <tbody>\n",
       "    <tr>\n",
       "      <th>0</th>\n",
       "      <td>0.1</td>\n",
       "      <td>0.06</td>\n",
       "      <td>0.12</td>\n",
       "      <td>0.72</td>\n",
       "      <td>329.34</td>\n",
       "    </tr>\n",
       "    <tr>\n",
       "      <th>1</th>\n",
       "      <td>0.1</td>\n",
       "      <td>0.05</td>\n",
       "      <td>0.11</td>\n",
       "      <td>0.73</td>\n",
       "      <td>329.25</td>\n",
       "    </tr>\n",
       "    <tr>\n",
       "      <th>2</th>\n",
       "      <td>0.1</td>\n",
       "      <td>0.05</td>\n",
       "      <td>0.11</td>\n",
       "      <td>0.73</td>\n",
       "      <td>329.25</td>\n",
       "    </tr>\n",
       "    <tr>\n",
       "      <th>3</th>\n",
       "      <td>0.1</td>\n",
       "      <td>0.05</td>\n",
       "      <td>0.11</td>\n",
       "      <td>0.73</td>\n",
       "      <td>329.26</td>\n",
       "    </tr>\n",
       "    <tr>\n",
       "      <th>4</th>\n",
       "      <td>0.1</td>\n",
       "      <td>0.05</td>\n",
       "      <td>0.13</td>\n",
       "      <td>0.72</td>\n",
       "      <td>329.19</td>\n",
       "    </tr>\n",
       "    <tr>\n",
       "      <th>5</th>\n",
       "      <td>0.1</td>\n",
       "      <td>0.05</td>\n",
       "      <td>0.13</td>\n",
       "      <td>0.72</td>\n",
       "      <td>329.19</td>\n",
       "    </tr>\n",
       "  </tbody>\n",
       "</table>\n",
       "</div>"
      ],
      "text/plain": [
       "    Zr    Cu    Co    Fe     STY\n",
       "0  0.1  0.06  0.12  0.72  329.34\n",
       "1  0.1  0.05  0.11  0.73  329.25\n",
       "2  0.1  0.05  0.11  0.73  329.25\n",
       "3  0.1  0.05  0.11  0.73  329.26\n",
       "4  0.1  0.05  0.13  0.72  329.19\n",
       "5  0.1  0.05  0.13  0.72  329.19"
      ]
     },
     "execution_count": 98,
     "metadata": {},
     "output_type": "execute_result"
    }
   ],
   "source": [
    "# Create dataframe with results \n",
    "\n",
    "dfresult = pd.DataFrame(result, columns = ['Zr','Cu','Co','Fe','STY'])\n",
    "dfresult = dfresult.round(2)\n",
    "dfresult"
   ]
  },
  {
   "cell_type": "code",
   "execution_count": null,
   "id": "bd324343",
   "metadata": {},
   "outputs": [],
   "source": []
  }
 ],
 "metadata": {
  "kernelspec": {
   "display_name": "Python 3 (ipykernel)",
   "language": "python",
   "name": "python3"
  },
  "language_info": {
   "codemirror_mode": {
    "name": "ipython",
    "version": 3
   },
   "file_extension": ".py",
   "mimetype": "text/x-python",
   "name": "python",
   "nbconvert_exporter": "python",
   "pygments_lexer": "ipython3",
   "version": "3.8.17"
  }
 },
 "nbformat": 4,
 "nbformat_minor": 5
}
